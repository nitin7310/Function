{
  "nbformat": 4,
  "nbformat_minor": 0,
  "metadata": {
    "colab": {
      "provenance": []
    },
    "kernelspec": {
      "name": "python3",
      "display_name": "Python 3"
    },
    "language_info": {
      "name": "python"
    }
  },
  "cells": [
    {
      "cell_type": "markdown",
      "source": [
        "#FUNCTION\n",
        "\n",
        "1.What is the difference between a function and a method in Python?\n",
        "\n",
        "  -> functin - A function is a block of reusable code defined outside of a\n",
        "               class. It can be called independently and does not require an object to operate.\n",
        "\n",
        "  ->  method - A method is essentially a function that is defined within a  \n",
        "               class and is tied to a specific object. It operates on data contained within the object (via self).\n",
        "\n",
        "\n",
        "2.Explain the concept of function arguments and parameters in Python?\n",
        "\n",
        "  -> parametrs - These are the placeholders defined in the function's signature\n",
        "                 (header).\n",
        "                 They act as variables that accept the values passed when the function is called.\n",
        "\n",
        "        example : def greet(name):  # 'name' is the parameter\n",
        "                  return f\"Hello, {name}!\"\n",
        "\n",
        "  -> argument - These are the actual values passed to the function when it is  \n",
        "                called.\n",
        "\n",
        "                They replace the placeholders (parameters) and provide the function with the specific data it needs to execute.\n",
        "\n",
        "      example : greet(\"Alice\")  # 'Alice' is the argument passed  to   function\n",
        "\n",
        "3.What are the different ways to define and call a function in Python?\n",
        "\n",
        "  -> Defining a Function\n",
        "\n",
        "   1.Standard Function: Defined using the def keyword.\n",
        "\n",
        " ex :\n",
        "      def greet(name):\n",
        "      return f\"Hello, {name}!\"\n",
        "\n",
        "   2.Lambda Function: A one-liner anonymous function defined with the lambda\n",
        "     keyword.\n",
        "\n",
        "ex :\n",
        "greet = lambda name: f\"Hello, {name}!\"\n",
        "\n",
        "   3.Nested Function: A function defined within another function.\n",
        "\n",
        "ex-\n",
        "def outer_function():\n",
        "    def inner_function():\n",
        "        return \"Hello from inner function!\"\n",
        "    return inner_function()\n",
        "\n",
        "   4.Function with Decorators: Adds functionality to the function by wrapping\n",
        "     it.\n",
        "\n",
        "ex-\n",
        "def decorator(func):\n",
        "    def wrapper():\n",
        "        print(\"Before calling the function\")\n",
        "        func()\n",
        "        print(\"After calling the function\")\n",
        "    return wrapper\n",
        "\n",
        "@decorator\n",
        "def say_hello():\n",
        "    print(\"Hello!\")\n",
        "\n",
        "   5.Function as a Class Method: Defined within a class and operates on the\n",
        "     class or instance.\n",
        "\n",
        "ex-\n",
        "class Greeter:\n",
        "    def greet(self, name):\n",
        "        return f\"Hello, {name}!\"\n",
        "\n",
        "Calling a Function\n",
        "\n",
        "   1.Standard Call: Simply call the function by its name with arguments (if\n",
        "     needed).\n",
        "\n",
        "ex-\n",
        "greet(\"Alice\")  # Output: Hello, Alice!\n",
        "\n",
        "   2.Using Return Value: Store the result in a variable for further use.\n",
        "\n",
        "ex-\n",
        "result = greet(\"Alice\")\n",
        "print(result)  # Output: Hello, Alice!\n",
        "\n",
        "   3.Calling Nested Functions: Access inner functions from the outer function.\n",
        "\n",
        "ex-\n",
        "outer_function()  # Output: Hello from inner function!\n",
        "\n",
        "   4.Calling Lambda Functions: Treat them like regular functions.\n",
        "\n",
        "ex-\n",
        "greet(\"Alice\")  # Output: Hello, Alice!\n",
        "\n",
        "   5.Using Decorators: Call the decorated function.\n",
        "\n",
        "ex-\n",
        "say_hello()\n",
        "Output:\n",
        "-Before calling the function\n",
        "-Hello!\n",
        "-After calling the function\n",
        "\n",
        "   6.Instance Method Call: Call the method using an object.\n",
        "\n",
        "ex-\n",
        "greeter = Greeter()\n",
        "greeter.greet(\"Alice\")  # Output: Hello, Alice!\n",
        "\n",
        "\n",
        "4.What is the purpose of the `return` statement in a Python function?\n",
        "\n",
        "  -> Provide Output: It sends the result of a computation or operation back to\n",
        "     the caller.\n",
        "\n",
        "5.What are iterators in Python and how do they differ from iterables?\n",
        "\n",
        "  -> An iterator is an object that represents a stream of data. It produces\n",
        "     values one at a time as you request them, which makes it memory-efficient.\n",
        "\n",
        "  -> An iterable can be converted into an iterator using iter().\n",
        "\n",
        "     An iterator provides values one at a time using next() until all elements are exhausted.\n",
        "\n",
        "\n",
        "6.Explain the concept of generators in Python and how they are defined?\n",
        "\n",
        "  -> enerators in Python are a special type of iterable that enable you to\n",
        "     produce values on demand, making them memory-efficient and ideal for handling large datasets or infinite sequences. Unlike regular functions that return a single value, generators yield values one at a time using the yield keyword.\n",
        "\n",
        "Defining Generators\n",
        "\n",
        "   1.Function-Based Generator: Use yield to produce values one by one.\n",
        "\n",
        "ex-\n",
        "def generate_numbers(n):\n",
        "    for i in range(n):\n",
        "        yield i\n",
        "\n",
        "   2.Generator Expression: Similar to list comprehensions, but enclosed in\n",
        "     parentheses to create a generator.\n",
        "\n",
        "ex-\n",
        "numbers = (i for i in range(10))  # Generator expression\n",
        "\n",
        "\n",
        "7.\n",
        "\n",
        "  -> Advantages of Generators\n",
        "\n",
        "-Memory Efficiency:\n",
        "\n",
        "   Regular functions often compute and return an entire dataset (like a list), consuming a lot of memory for large outputs.\n",
        "\n",
        "   Generators, on the other hand, use lazy evaluation, producing values one at a time as needed. This makes them memory-efficient.\n",
        "\n",
        "-Faster Execution (for large data):\n",
        "\n",
        "   Since generators calculate values on demand, they avoid the overhead of creating large data structures in memory, which can make them faster for large or infinite sequences.\n",
        "\n",
        "\n",
        "8.What is a lambda function in Python and when is it typically used?\n",
        "\n",
        "  ->A lambda function in Python is an anonymous (unnamed) function defined      using the lambda keyword. Unlike a regular function created with def, a lambda function is typically concise and used for short-term operations.\n",
        "\n",
        "ex-\n",
        "Regular function\n",
        "\n",
        "  def add(a, b):\n",
        "      return a + b\n",
        "\n",
        "Equivalent lambda function\n",
        "\n",
        "  add_lambda = lambda a, b: a + b\n",
        "\n",
        "  print(add_lambda(2, 3))  # Output: 5\n",
        "\n",
        "\n",
        "9.Explain the purpose and usage of the `map()` function in Python?\n",
        "\n",
        "  -> Purpose of map()\n",
        "\n",
        "     The primary purpose of map() is to:\n",
        "\n",
        "     1.Apply a Function: Perform an operation on every element in an iterable.\n",
        "\n",
        "     2.Improve Readability: Replace explicit loops with concise, functional-style code.\n",
        "\n",
        "     3.Memory Efficiency: Return a map object, which can be iterated lazily, instead of creating a fully-realized list.\n",
        "\n",
        "ex-\n",
        " def double(x):\n",
        "     return x * 2\n",
        "\n",
        " numbers = [1, 2, 3, 4]\n",
        " doubled = map(double, numbers)\n",
        " print(list(doubled))  # Output: [2, 4, 6, 8]\n",
        "\n",
        "\n"
      ],
      "metadata": {
        "id": "-Ljxe-S2Z80P"
      }
    },
    {
      "cell_type": "code",
      "source": [
        "# 1.Write a Python function that takes a list of numbers as input and returns the sum of all even numbers in the list.\n",
        "\n",
        "def sum_of_evens(numbers):\n",
        "\n",
        "    return sum(num for num in numbers if num % 2 == 0)\n",
        "\n",
        "numbers = [1, 2, 3, 4, 5, 6]\n",
        "result = sum_of_evens(numbers)\n",
        "print(f\"The sum of even numbers in the list is: {result}\")\n"
      ],
      "metadata": {
        "colab": {
          "base_uri": "https://localhost:8080/"
        },
        "id": "xzcvMSGLifr5",
        "outputId": "47cf76ec-32e8-408a-d81b-e86cac89111b"
      },
      "execution_count": 1,
      "outputs": [
        {
          "output_type": "stream",
          "name": "stdout",
          "text": [
            "The sum of even numbers in the list is: 12\n"
          ]
        }
      ]
    },
    {
      "cell_type": "code",
      "source": [
        "# 2.Create a Python function that accepts a string and returns the reverse of that string.\n",
        "\n",
        "def reverse_string(input_string):\n",
        "\n",
        "    return input_string[::-1]\n",
        "\n",
        "original_string = \"Hello, World!\"\n",
        "reversed_string = reverse_string(original_string)\n",
        "print(\"The reversed string is:\" ,reversed_string)\n"
      ],
      "metadata": {
        "colab": {
          "base_uri": "https://localhost:8080/"
        },
        "id": "6ohgc8lBiglG",
        "outputId": "959298ea-d28d-4987-9973-edd91f24f6e4"
      },
      "execution_count": 7,
      "outputs": [
        {
          "output_type": "stream",
          "name": "stdout",
          "text": [
            "The reversed string is: !dlroW ,olleH\n"
          ]
        }
      ]
    },
    {
      "cell_type": "code",
      "source": [
        "# 3.Implement a Python function that takes a list of integers and returns a new list containing the squares of each number.\n",
        "\n",
        "def square_numbers(numbers):\n",
        "\n",
        "    return [num ** 2 for num in numbers]\n",
        "\n",
        "original_list = [1, 2, 3, 4, 5]\n",
        "squared_list = square_numbers(original_list)\n",
        "print(\"The squares of the numbers in the list are:\", squared_list)\n"
      ],
      "metadata": {
        "colab": {
          "base_uri": "https://localhost:8080/"
        },
        "id": "xSdkEfm4jdjJ",
        "outputId": "d5f756b9-627e-4223-e2b9-14adda46ffbb"
      },
      "execution_count": 10,
      "outputs": [
        {
          "output_type": "stream",
          "name": "stdout",
          "text": [
            "The squares of the numbers in the list are: [1, 4, 9, 16, 25]\n"
          ]
        }
      ]
    },
    {
      "cell_type": "code",
      "source": [
        "# 4.Write a Python function that checks if a given number is prime or not from 1 to 200\n",
        "\n",
        "def is_prime(number):\n",
        "\n",
        "    if number <= 1:\n",
        "        return False\n",
        "    for i in range(2, int(number ** 0.5) + 1):  # Check divisors up to the square root of the number\n",
        "        if number % i == 0:\n",
        "            return False\n",
        "    return True\n",
        "\n",
        "def check_primes_up_to_200():\n",
        "\n",
        "    for num in range(1, 201):\n",
        "        if is_prime(num):\n",
        "            print(f\"{num} is a prime number\")\n",
        "        else:\n",
        "            print(f\"{num} is not a prime number\")\n",
        "\n",
        "# Run the function to check primes from 1 to 200\n",
        "check_primes_up_to_200()\n"
      ],
      "metadata": {
        "colab": {
          "base_uri": "https://localhost:8080/"
        },
        "id": "82TF0Alsj3_i",
        "outputId": "4c861286-9c3e-4edb-b6d9-33aeda0f020d"
      },
      "execution_count": 11,
      "outputs": [
        {
          "output_type": "stream",
          "name": "stdout",
          "text": [
            "1 is not a prime number\n",
            "2 is a prime number\n",
            "3 is a prime number\n",
            "4 is not a prime number\n",
            "5 is a prime number\n",
            "6 is not a prime number\n",
            "7 is a prime number\n",
            "8 is not a prime number\n",
            "9 is not a prime number\n",
            "10 is not a prime number\n",
            "11 is a prime number\n",
            "12 is not a prime number\n",
            "13 is a prime number\n",
            "14 is not a prime number\n",
            "15 is not a prime number\n",
            "16 is not a prime number\n",
            "17 is a prime number\n",
            "18 is not a prime number\n",
            "19 is a prime number\n",
            "20 is not a prime number\n",
            "21 is not a prime number\n",
            "22 is not a prime number\n",
            "23 is a prime number\n",
            "24 is not a prime number\n",
            "25 is not a prime number\n",
            "26 is not a prime number\n",
            "27 is not a prime number\n",
            "28 is not a prime number\n",
            "29 is a prime number\n",
            "30 is not a prime number\n",
            "31 is a prime number\n",
            "32 is not a prime number\n",
            "33 is not a prime number\n",
            "34 is not a prime number\n",
            "35 is not a prime number\n",
            "36 is not a prime number\n",
            "37 is a prime number\n",
            "38 is not a prime number\n",
            "39 is not a prime number\n",
            "40 is not a prime number\n",
            "41 is a prime number\n",
            "42 is not a prime number\n",
            "43 is a prime number\n",
            "44 is not a prime number\n",
            "45 is not a prime number\n",
            "46 is not a prime number\n",
            "47 is a prime number\n",
            "48 is not a prime number\n",
            "49 is not a prime number\n",
            "50 is not a prime number\n",
            "51 is not a prime number\n",
            "52 is not a prime number\n",
            "53 is a prime number\n",
            "54 is not a prime number\n",
            "55 is not a prime number\n",
            "56 is not a prime number\n",
            "57 is not a prime number\n",
            "58 is not a prime number\n",
            "59 is a prime number\n",
            "60 is not a prime number\n",
            "61 is a prime number\n",
            "62 is not a prime number\n",
            "63 is not a prime number\n",
            "64 is not a prime number\n",
            "65 is not a prime number\n",
            "66 is not a prime number\n",
            "67 is a prime number\n",
            "68 is not a prime number\n",
            "69 is not a prime number\n",
            "70 is not a prime number\n",
            "71 is a prime number\n",
            "72 is not a prime number\n",
            "73 is a prime number\n",
            "74 is not a prime number\n",
            "75 is not a prime number\n",
            "76 is not a prime number\n",
            "77 is not a prime number\n",
            "78 is not a prime number\n",
            "79 is a prime number\n",
            "80 is not a prime number\n",
            "81 is not a prime number\n",
            "82 is not a prime number\n",
            "83 is a prime number\n",
            "84 is not a prime number\n",
            "85 is not a prime number\n",
            "86 is not a prime number\n",
            "87 is not a prime number\n",
            "88 is not a prime number\n",
            "89 is a prime number\n",
            "90 is not a prime number\n",
            "91 is not a prime number\n",
            "92 is not a prime number\n",
            "93 is not a prime number\n",
            "94 is not a prime number\n",
            "95 is not a prime number\n",
            "96 is not a prime number\n",
            "97 is a prime number\n",
            "98 is not a prime number\n",
            "99 is not a prime number\n",
            "100 is not a prime number\n",
            "101 is a prime number\n",
            "102 is not a prime number\n",
            "103 is a prime number\n",
            "104 is not a prime number\n",
            "105 is not a prime number\n",
            "106 is not a prime number\n",
            "107 is a prime number\n",
            "108 is not a prime number\n",
            "109 is a prime number\n",
            "110 is not a prime number\n",
            "111 is not a prime number\n",
            "112 is not a prime number\n",
            "113 is a prime number\n",
            "114 is not a prime number\n",
            "115 is not a prime number\n",
            "116 is not a prime number\n",
            "117 is not a prime number\n",
            "118 is not a prime number\n",
            "119 is not a prime number\n",
            "120 is not a prime number\n",
            "121 is not a prime number\n",
            "122 is not a prime number\n",
            "123 is not a prime number\n",
            "124 is not a prime number\n",
            "125 is not a prime number\n",
            "126 is not a prime number\n",
            "127 is a prime number\n",
            "128 is not a prime number\n",
            "129 is not a prime number\n",
            "130 is not a prime number\n",
            "131 is a prime number\n",
            "132 is not a prime number\n",
            "133 is not a prime number\n",
            "134 is not a prime number\n",
            "135 is not a prime number\n",
            "136 is not a prime number\n",
            "137 is a prime number\n",
            "138 is not a prime number\n",
            "139 is a prime number\n",
            "140 is not a prime number\n",
            "141 is not a prime number\n",
            "142 is not a prime number\n",
            "143 is not a prime number\n",
            "144 is not a prime number\n",
            "145 is not a prime number\n",
            "146 is not a prime number\n",
            "147 is not a prime number\n",
            "148 is not a prime number\n",
            "149 is a prime number\n",
            "150 is not a prime number\n",
            "151 is a prime number\n",
            "152 is not a prime number\n",
            "153 is not a prime number\n",
            "154 is not a prime number\n",
            "155 is not a prime number\n",
            "156 is not a prime number\n",
            "157 is a prime number\n",
            "158 is not a prime number\n",
            "159 is not a prime number\n",
            "160 is not a prime number\n",
            "161 is not a prime number\n",
            "162 is not a prime number\n",
            "163 is a prime number\n",
            "164 is not a prime number\n",
            "165 is not a prime number\n",
            "166 is not a prime number\n",
            "167 is a prime number\n",
            "168 is not a prime number\n",
            "169 is not a prime number\n",
            "170 is not a prime number\n",
            "171 is not a prime number\n",
            "172 is not a prime number\n",
            "173 is a prime number\n",
            "174 is not a prime number\n",
            "175 is not a prime number\n",
            "176 is not a prime number\n",
            "177 is not a prime number\n",
            "178 is not a prime number\n",
            "179 is a prime number\n",
            "180 is not a prime number\n",
            "181 is a prime number\n",
            "182 is not a prime number\n",
            "183 is not a prime number\n",
            "184 is not a prime number\n",
            "185 is not a prime number\n",
            "186 is not a prime number\n",
            "187 is not a prime number\n",
            "188 is not a prime number\n",
            "189 is not a prime number\n",
            "190 is not a prime number\n",
            "191 is a prime number\n",
            "192 is not a prime number\n",
            "193 is a prime number\n",
            "194 is not a prime number\n",
            "195 is not a prime number\n",
            "196 is not a prime number\n",
            "197 is a prime number\n",
            "198 is not a prime number\n",
            "199 is a prime number\n",
            "200 is not a prime number\n"
          ]
        }
      ]
    },
    {
      "cell_type": "code",
      "source": [
        "# 5.Create an iterator class in Python that generates the Fibonacci sequence up to a specified number of terms.\n",
        "\n",
        "\n",
        "class Fibonacci:\n",
        "\n",
        "    def __init__(self, n):\n",
        "        self.n = n  # Number of terms\n",
        "        self.current = 0  # First Fibonacci number\n",
        "        self.next = 1  # Second Fibonacci number\n",
        "        self.count = 0  # Track the number of terms generated\n",
        "\n",
        "    def __iter__(self):\n",
        "        return self\n",
        "\n",
        "    def __next__(self):\n",
        "        if self.count >= self.n:  # Stop iteration after n terms\n",
        "            raise StopIteration\n",
        "\n",
        "        # Generate the next Fibonacci number\n",
        "        fibonacci_number = self.current\n",
        "        self.current, self.next = self.next, self.current + self.next\n",
        "        self.count += 1\n",
        "        return fibonacci_number\n",
        "\n",
        "num_terms = 10  # Specify the number of Fibonacci terms\n",
        "fib_iterator = Fibonacci(num_terms)\n",
        "\n",
        "for fib in fib_iterator:\n",
        "    print(fib, end=\" \")  # Output: 0 1 1 2 3 5 8 13 21 34\n"
      ],
      "metadata": {
        "colab": {
          "base_uri": "https://localhost:8080/"
        },
        "id": "j8LRL5bBkVvt",
        "outputId": "e72d3889-302f-4fc6-ba28-4ba7cf76cf27"
      },
      "execution_count": 12,
      "outputs": [
        {
          "output_type": "stream",
          "name": "stdout",
          "text": [
            "0 1 1 2 3 5 8 13 21 34 "
          ]
        }
      ]
    },
    {
      "cell_type": "code",
      "source": [
        "# 6. Write a generator function in Python that yields the powers of 2 up to a given exponent.\n",
        "\n",
        "\n",
        "def powers_of_two(max_exponent):\n",
        "\n",
        "    for exponent in range(max_exponent + 1):\n",
        "        yield 2 ** exponent\n",
        "\n",
        "max_exponent = 5\n",
        "for power in powers_of_two(max_exponent):\n",
        "    print(power)\n"
      ],
      "metadata": {
        "colab": {
          "base_uri": "https://localhost:8080/"
        },
        "id": "-sTH34wnksZa",
        "outputId": "5998c4d9-3148-43c0-b336-bb81e8bf63eb"
      },
      "execution_count": 13,
      "outputs": [
        {
          "output_type": "stream",
          "name": "stdout",
          "text": [
            "1\n",
            "2\n",
            "4\n",
            "8\n",
            "16\n",
            "32\n"
          ]
        }
      ]
    },
    {
      "cell_type": "code",
      "source": [
        "# 7.Implement a generator function that reads a file line by line and yields each line as a string\n",
        "\n",
        "def read_file_line_by_line(file_path):\n",
        "\n",
        "    try:\n",
        "        with open(file_path, 'r') as file:  # Open the file in read mode\n",
        "            for line in file:\n",
        "                yield line.strip()  # Yield each line after stripping whitespace\n",
        "    except FileNotFoundError:\n",
        "        print(f\"Error: The file at '{file_path}' was not found.\")\n",
        "    except Exception as e:\n",
        "        print(f\"An error occurred: {e}\")\n",
        "\n",
        "file_path = 'example.txt'  # Replace with your file path\n",
        "for line in read_file_line_by_line(file_path):\n",
        "    print(line)\n"
      ],
      "metadata": {
        "colab": {
          "base_uri": "https://localhost:8080/"
        },
        "id": "4Qba5H5Bk4ow",
        "outputId": "8d97e578-0883-4b8b-d08c-a75bd961b94c"
      },
      "execution_count": 14,
      "outputs": [
        {
          "output_type": "stream",
          "name": "stdout",
          "text": [
            "Error: The file at 'example.txt' was not found.\n"
          ]
        }
      ]
    },
    {
      "cell_type": "code",
      "source": [
        "# 8. Use a lambda function in Python to sort a list of tuples based on the second element of each tuple.\n",
        "\n",
        "\n",
        "# Sample list of tuples\n",
        "data = [(1, 5), (3, 2), (4, 8), (2, 1)]\n",
        "\n",
        "# Sorting the list using a lambda function\n",
        "sorted_data = sorted(data, key=lambda x: x[1])\n",
        "\n",
        "print(\"Sorted list:\", sorted_data)\n"
      ],
      "metadata": {
        "colab": {
          "base_uri": "https://localhost:8080/"
        },
        "id": "nnBQkqt3lHAw",
        "outputId": "86c0dacf-2bee-453b-e4dc-608dc3e15bf8"
      },
      "execution_count": 15,
      "outputs": [
        {
          "output_type": "stream",
          "name": "stdout",
          "text": [
            "Sorted list: [(2, 1), (3, 2), (1, 5), (4, 8)]\n"
          ]
        }
      ]
    },
    {
      "cell_type": "code",
      "source": [
        "# 9. Write a Python program that uses `map()` to convert a list of temperatures from Celsius to Fahrenheit.\n",
        "\n",
        "\n",
        "# Define a function to convert Celsius to Fahrenheit\n",
        "def celsius_to_fahrenheit(celsius):\n",
        "    return (celsius * 9/5) + 32\n",
        "\n",
        "celsius_temperatures = [0, 20, 37, 100]\n",
        "\n",
        "fahrenheit_temperatures = list(map(celsius_to_fahrenheit, celsius_temperatures))\n",
        "\n",
        "print(\"Temperatures in Celsius:\", celsius_temperatures)\n",
        "print(\"Temperatures in Fahrenheit:\", fahrenheit_temperatures)\n"
      ],
      "metadata": {
        "colab": {
          "base_uri": "https://localhost:8080/"
        },
        "id": "53sAhknxlclv",
        "outputId": "fabfe550-7a67-4884-d7d9-0939f6ca7fd1"
      },
      "execution_count": 17,
      "outputs": [
        {
          "output_type": "stream",
          "name": "stdout",
          "text": [
            "Temperatures in Celsius: [0, 20, 37, 100]\n",
            "Temperatures in Fahrenheit: [32.0, 68.0, 98.6, 212.0]\n"
          ]
        }
      ]
    },
    {
      "cell_type": "code",
      "source": [
        "# 10.Create a Python program that uses `filter()` to remove all the vowels from a given string.\n",
        "\n",
        "\n",
        "def remove_vowels(input_string):\n",
        "\n",
        "    is_not_vowel = lambda char: char.lower() not in 'aeiou'\n",
        "\n",
        "    result = filter(is_not_vowel, input_string)\n",
        "\n",
        "    return ''.join(result)\n",
        "\n",
        "input_string = \"This is an example string.\"\n",
        "result_string = remove_vowels(input_string)\n",
        "\n",
        "print(\"Original string:\", input_string)\n",
        "print(\"String without vowels:\", result_string)\n"
      ],
      "metadata": {
        "colab": {
          "base_uri": "https://localhost:8080/"
        },
        "id": "dAZETKV3lxiO",
        "outputId": "edcf1f50-cbd9-433e-ec50-b0beed7a996a"
      },
      "execution_count": 18,
      "outputs": [
        {
          "output_type": "stream",
          "name": "stdout",
          "text": [
            "Original string: This is an example string.\n",
            "String without vowels: Ths s n xmpl strng.\n"
          ]
        }
      ]
    },
    {
      "cell_type": "markdown",
      "source": [],
      "metadata": {
        "id": "Gk24gSZtig-o"
      }
    }
  ]
}